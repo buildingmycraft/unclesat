{
 "cells": [
  {
   "metadata": {},
   "cell_type": "markdown",
   "source": "# Download SAT Question Bank",
   "id": "af9f31dfaf8b2bc5"
  },
  {
   "metadata": {},
   "cell_type": "code",
   "source": [
    "import requests\n",
    "import json\n",
    "from tqdm import tqdm\n",
    "\n",
    "from IPython.display import display, HTML"
   ],
   "id": "a7450ad65b7fa66b",
   "outputs": [],
   "execution_count": null
  },
  {
   "metadata": {},
   "cell_type": "markdown",
   "source": "## Get question list",
   "id": "a2d6b84ea6e45bc5"
  },
  {
   "metadata": {},
   "cell_type": "markdown",
   "source": "### Question lookup",
   "id": "c1f3999167b59a6"
  },
  {
   "metadata": {},
   "cell_type": "code",
   "source": [
    "headers = {\n",
    "    'accept': 'application/json',\n",
    "    'accept-language': 'en-GB,en;q=0.9',\n",
    "    'origin': 'https://satsuitequestionbank.collegeboard.org',\n",
    "    'priority': 'u=1, i',\n",
    "    'referer': 'https://satsuitequestionbank.collegeboard.org/',\n",
    "    'sec-ch-ua': '\"Chromium\";v=\"128\", \"Not;A=Brand\";v=\"24\", \"Brave\";v=\"128\"',\n",
    "    'sec-ch-ua-mobile': '?0',\n",
    "    'sec-ch-ua-platform': '\"Linux\"',\n",
    "    'sec-fetch-dest': 'empty',\n",
    "    'sec-fetch-mode': 'cors',\n",
    "    'sec-fetch-site': 'same-site',\n",
    "    'sec-gpc': '1',\n",
    "    'user-agent': 'Mozilla/5.0 (X11; Linux x86_64) AppleWebKit/537.36 (KHTML, like Gecko) Chrome/128.0.0.0 Safari/537.36',\n",
    "}\n",
    "\n",
    "response = requests.get(\n",
    "    'https://qbank-api.collegeboard.org/msreportingquestionbank-prod/questionbank/lookup',\n",
    "    headers=headers,\n",
    ")\n",
    "\n",
    "lookup_response = requests.get(\n",
    "    'https://qbank-api.collegeboard.org/msreportingquestionbank-prod/questionbank/lookup',\n",
    "    headers=headers,\n",
    ")\n",
    "\n",
    "lookup = lookup_response.json()"
   ],
   "id": "8a2ad248b5eaec13",
   "outputs": [],
   "execution_count": null
  },
  {
   "metadata": {},
   "cell_type": "code",
   "source": [
    "print(f\"Found {len(lookup['mathLiveItems'])} live math questions and \"\n",
    "      f\"{len(lookup['readingLiveItems'])} live english questions\")"
   ],
   "id": "d82b950ee2ea750d",
   "outputs": [],
   "execution_count": null
  },
  {
   "metadata": {},
   "cell_type": "code",
   "source": [
    "with open('../data/raw/lookup.json', 'w') as fout:\n",
    "    json.dump(lookup, fout)"
   ],
   "id": "64f13699b824ea10",
   "outputs": [],
   "execution_count": null
  },
  {
   "metadata": {},
   "cell_type": "markdown",
   "source": "### Math question list",
   "id": "f96014e9ae214d5a"
  },
  {
   "cell_type": "code",
   "id": "initial_id",
   "metadata": {
    "collapsed": true
   },
   "source": [
    "headers = {\n",
    "    'accept': 'application/json',\n",
    "    'accept-language': 'en-US,en;q=0.9',\n",
    "    'content-type': 'application/json',\n",
    "    'origin': 'https://satsuitequestionbank.collegeboard.org',\n",
    "    'priority': 'u=1, i',\n",
    "    'referer': 'https://satsuitequestionbank.collegeboard.org/',\n",
    "    'sec-ch-ua': '\"Not)A;Brand\";v=\"99\", \"Google Chrome\";v=\"127\", \"Chromium\";v=\"127\"',\n",
    "    'sec-ch-ua-mobile': '?0',\n",
    "    'sec-ch-ua-platform': '\"macOS\"',\n",
    "    'sec-fetch-dest': 'empty',\n",
    "    'sec-fetch-mode': 'cors',\n",
    "    'sec-fetch-site': 'same-site',\n",
    "    'user-agent': 'Mozilla/5.0 (Macintosh; Intel Mac OS X 10_15_7) AppleWebKit/537.36 (KHTML, like Gecko) Chrome/127.0.0.0 Safari/537.36',\n",
    "}\n",
    "\n",
    "json_data = {\n",
    "    'asmtEventId': 99,\n",
    "    'test': 2,\n",
    "    'domain': 'H,P,Q,S',\n",
    "}\n",
    "\n",
    "math_question_list_response = requests.post(\n",
    "    'https://qbank-api.collegeboard.org/msreportingquestionbank-prod/questionbank/digital/get-questions',\n",
    "    headers=headers,\n",
    "    json=json_data,\n",
    ")\n",
    "\n",
    "math_question_list = math_question_list_response.json()"
   ],
   "outputs": [],
   "execution_count": null
  },
  {
   "metadata": {},
   "cell_type": "code",
   "source": "print(f\"Number of questions downloaded: {len(math_question_list)}\")",
   "id": "a73d1983d38398ce",
   "outputs": [],
   "execution_count": null
  },
  {
   "metadata": {},
   "cell_type": "code",
   "source": "math_question_list[:3]",
   "id": "5edb3bc502f5756c",
   "outputs": [],
   "execution_count": null
  },
  {
   "metadata": {},
   "cell_type": "code",
   "source": [
    "with open('../data/raw/math_question_list.json', 'w') as fout:\n",
    "    json.dump(math_question_list, fout)"
   ],
   "id": "cfead1388d9b18b3",
   "outputs": [],
   "execution_count": null
  },
  {
   "metadata": {},
   "cell_type": "markdown",
   "source": "### English question list",
   "id": "fb4657d903c4f065"
  },
  {
   "metadata": {},
   "cell_type": "code",
   "source": [
    "headers = {\n",
    "    'accept': 'application/json',\n",
    "    'accept-language': 'en-US,en;q=0.9',\n",
    "    'content-type': 'application/json',\n",
    "    'origin': 'https://satsuitequestionbank.collegeboard.org',\n",
    "    'priority': 'u=1, i',\n",
    "    'referer': 'https://satsuitequestionbank.collegeboard.org/',\n",
    "    'sec-ch-ua': '\"Not)A;Brand\";v=\"99\", \"Google Chrome\";v=\"127\", \"Chromium\";v=\"127\"',\n",
    "    'sec-ch-ua-mobile': '?0',\n",
    "    'sec-ch-ua-platform': '\"macOS\"',\n",
    "    'sec-fetch-dest': 'empty',\n",
    "    'sec-fetch-mode': 'cors',\n",
    "    'sec-fetch-site': 'same-site',\n",
    "    'user-agent': 'Mozilla/5.0 (Macintosh; Intel Mac OS X 10_15_7) AppleWebKit/537.36 (KHTML, like Gecko) Chrome/127.0.0.0 Safari/537.36',\n",
    "}\n",
    "\n",
    "json_data = {\n",
    "    'asmtEventId': 99,\n",
    "    'test': 1,\n",
    "    'domain': 'INI,CAS,EOI,SEC',\n",
    "}\n",
    "\n",
    "english_question_list_response = requests.post(\n",
    "    'https://qbank-api.collegeboard.org/msreportingquestionbank-prod/questionbank/digital/get-questions',\n",
    "    headers=headers,\n",
    "    json=json_data,\n",
    ")\n",
    "\n",
    "english_question_list = english_question_list_response.json()"
   ],
   "id": "de91f998efc3136",
   "outputs": [],
   "execution_count": null
  },
  {
   "metadata": {},
   "cell_type": "code",
   "source": "print(f\"Number of questions downloaded: {len(english_question_list)}\")",
   "id": "c2cb3c3b5d2014f8",
   "outputs": [],
   "execution_count": null
  },
  {
   "metadata": {},
   "cell_type": "code",
   "source": "english_question_list[:3]",
   "id": "efa59f09911fcd91",
   "outputs": [],
   "execution_count": null
  },
  {
   "metadata": {},
   "cell_type": "code",
   "source": [
    "with open('../data/raw/english_question_list.json', 'w') as fout:\n",
    "    json.dump(english_question_list, fout)"
   ],
   "id": "4e5d13587eee7b32",
   "outputs": [],
   "execution_count": null
  },
  {
   "metadata": {},
   "cell_type": "markdown",
   "source": [
    "\n",
    "## Get questions"
   ],
   "id": "6b4d9fd864e9bfe"
  },
  {
   "metadata": {},
   "cell_type": "markdown",
   "source": "### Example question",
   "id": "bc4548187c400f5e"
  },
  {
   "metadata": {},
   "cell_type": "markdown",
   "source": "#### With external ID",
   "id": "746a4198e69a0a37"
  },
  {
   "metadata": {},
   "cell_type": "code",
   "source": [
    "headers = {\n",
    "    'accept': 'application/json',\n",
    "    'accept-language': 'en-US,en;q=0.9',\n",
    "    'content-type': 'application/json',\n",
    "    'origin': 'https://satsuitequestionbank.collegeboard.org',\n",
    "    'priority': 'u=1, i',\n",
    "    'referer': 'https://satsuitequestionbank.collegeboard.org/',\n",
    "    'sec-ch-ua': '\"Not)A;Brand\";v=\"99\", \"Google Chrome\";v=\"127\", \"Chromium\";v=\"127\"',\n",
    "    'sec-ch-ua-mobile': '?0',\n",
    "    'sec-ch-ua-platform': '\"macOS\"',\n",
    "    'sec-fetch-dest': 'empty',\n",
    "    'sec-fetch-mode': 'cors',\n",
    "    'sec-fetch-site': 'same-site',\n",
    "    'user-agent': 'Mozilla/5.0 (Macintosh; Intel Mac OS X 10_15_7) AppleWebKit/537.36 (KHTML, like Gecko) Chrome/127.0.0.0 Safari/537.36',\n",
    "}\n",
    "\n",
    "json_data = {\n",
    "    'external_id': '65ac5dc5-af25-4ecf-8562-a346047750a6',\n",
    "}\n",
    "\n",
    "question_response = requests.post(\n",
    "    'https://qbank-api.collegeboard.org/msreportingquestionbank-prod/questionbank/digital/get-question',\n",
    "    headers=headers,\n",
    "    json=json_data,\n",
    ")"
   ],
   "id": "94c4c1b0c0d951c5",
   "outputs": [],
   "execution_count": null
  },
  {
   "metadata": {},
   "cell_type": "code",
   "source": "question = question_response.json(); question",
   "id": "8348d941e4767b80",
   "outputs": [],
   "execution_count": null
  },
  {
   "metadata": {},
   "cell_type": "code",
   "source": "display(HTML(question[\"stem\"]))",
   "id": "576ef5444ec4148e",
   "outputs": [],
   "execution_count": null
  },
  {
   "metadata": {},
   "cell_type": "code",
   "source": "display(HTML(question[\"rationale\"]))",
   "id": "6a27279569246662",
   "outputs": [],
   "execution_count": null
  },
  {
   "metadata": {},
   "cell_type": "code",
   "source": "question[\"correct_answer\"]",
   "id": "1d7f41ab74ad8859",
   "outputs": [],
   "execution_count": null
  },
  {
   "metadata": {},
   "cell_type": "markdown",
   "source": "#### Without external id",
   "id": "28027b1e57b45693"
  },
  {
   "metadata": {},
   "cell_type": "code",
   "source": [
    "headers = {\n",
    "    'accept': 'application/json, text/plain, */*',\n",
    "    'accept-language': 'en-US,en;q=0.9',\n",
    "    'origin': 'https://satsuitequestionbank.collegeboard.org',\n",
    "    'priority': 'u=1, i',\n",
    "    'referer': 'https://satsuitequestionbank.collegeboard.org/',\n",
    "    'sec-ch-ua': '\"Not)A;Brand\";v=\"99\", \"Google Chrome\";v=\"127\", \"Chromium\";v=\"127\"',\n",
    "    'sec-ch-ua-mobile': '?0',\n",
    "    'sec-ch-ua-platform': '\"macOS\"',\n",
    "    'sec-fetch-dest': 'empty',\n",
    "    'sec-fetch-mode': 'cors',\n",
    "    'sec-fetch-site': 'same-site',\n",
    "    'user-agent': 'Mozilla/5.0 (Macintosh; Intel Mac OS X 10_15_7) AppleWebKit/537.36 (KHTML, like Gecko) Chrome/127.0.0.0 Safari/537.36',\n",
    "}\n",
    "\n",
    "question_response = requests.get('https://saic.collegeboard.org/disclosed/022222-DC.json', headers=headers)"
   ],
   "id": "da2bd1ed84c6f725",
   "outputs": [],
   "execution_count": null
  },
  {
   "metadata": {},
   "cell_type": "code",
   "source": "question = question_response.json(); question",
   "id": "2d44312cb2713258",
   "outputs": [],
   "execution_count": null
  },
  {
   "metadata": {},
   "cell_type": "code",
   "source": "display(HTML(question[0][\"prompt\"]))",
   "id": "27effbe67143b884",
   "outputs": [],
   "execution_count": null
  },
  {
   "metadata": {},
   "cell_type": "code",
   "source": "display(HTML(question[0][\"answer\"][\"rationale\"]))",
   "id": "f78f70f3c43d5002",
   "outputs": [],
   "execution_count": null
  },
  {
   "metadata": {},
   "cell_type": "code",
   "source": "question[0][\"answer\"][\"correct_choice\"]",
   "id": "8edf0642b5b8803c",
   "outputs": [],
   "execution_count": null
  },
  {
   "metadata": {},
   "cell_type": "markdown",
   "source": "### Download questions",
   "id": "691d0698efd82530"
  },
  {
   "metadata": {},
   "cell_type": "code",
   "source": [
    "def get_question_by_ibn(idb: str) -> dict:\n",
    "    headers = {\n",
    "        'accept': 'application/json, text/plain, */*',\n",
    "        'accept-language': 'en-US,en;q=0.9',\n",
    "        'origin': 'https://satsuitequestionbank.collegeboard.org',\n",
    "        'priority': 'u=1, i',\n",
    "        'referer': 'https://satsuitequestionbank.collegeboard.org/',\n",
    "        'sec-ch-ua': '\"Not)A;Brand\";v=\"99\", \"Google Chrome\";v=\"127\", \"Chromium\";v=\"127\"',\n",
    "        'sec-ch-ua-mobile': '?0',\n",
    "        'sec-ch-ua-platform': '\"macOS\"',\n",
    "        'sec-fetch-dest': 'empty',\n",
    "        'sec-fetch-mode': 'cors',\n",
    "        'sec-fetch-site': 'same-site',\n",
    "        'user-agent': 'Mozilla/5.0 (Macintosh; Intel Mac OS X 10_15_7) AppleWebKit/537.36 (KHTML, like Gecko) Chrome/127.0.0.0 Safari/537.36',\n",
    "    }\n",
    "    \n",
    "    response = requests.get(f'https://saic.collegeboard.org/disclosed/{idb}.json', headers=headers)\n",
    "    \n",
    "    return response.json()\n",
    "\n",
    "\n",
    "def get_question_by_eid(eid: str) -> dict:\n",
    "    headers = {\n",
    "        'accept': 'application/json',\n",
    "        'accept-language': 'en-US,en;q=0.9',\n",
    "        'content-type': 'application/json',\n",
    "        'origin': 'https://satsuitequestionbank.collegeboard.org',\n",
    "        'priority': 'u=1, i',\n",
    "        'referer': 'https://satsuitequestionbank.collegeboard.org/',\n",
    "        'sec-ch-ua': '\"Not)A;Brand\";v=\"99\", \"Google Chrome\";v=\"127\", \"Chromium\";v=\"127\"',\n",
    "        'sec-ch-ua-mobile': '?0',\n",
    "        'sec-ch-ua-platform': '\"macOS\"',\n",
    "        'sec-fetch-dest': 'empty',\n",
    "        'sec-fetch-mode': 'cors',\n",
    "        'sec-fetch-site': 'same-site',\n",
    "        'user-agent': 'Mozilla/5.0 (Macintosh; Intel Mac OS X 10_15_7) AppleWebKit/537.36 (KHTML, like Gecko) Chrome/127.0.0.0 Safari/537.36',\n",
    "    }\n",
    "    \n",
    "    json_data = {'external_id': eid}\n",
    "    \n",
    "    response = requests.post(\n",
    "        'https://qbank-api.collegeboard.org/msreportingquestionbank-prod/questionbank/digital/get-question',\n",
    "        headers=headers,\n",
    "        json=json_data,\n",
    "    )\n",
    "    \n",
    "    return response.json()\n",
    "\n",
    "\n",
    "def get_question(metadata: dict) -> dict:\n",
    "    if (eid := metadata.get(\"external_id\")) is not None:\n",
    "        return {\"external_id\": eid, \"metadata\": metadata, \"question\": get_question_by_eid(eid)}\n",
    "    elif (ibn := metadata.get(\"ibn\")) is not None:\n",
    "        return {\"ibn\": ibn, \"metadata\": metadata, \"question\": get_question_by_ibn(ibn)}\n",
    "    else:\n",
    "        raise ValueError(\"Expect question to have key `external_id` or `ibn`\")"
   ],
   "id": "60c2e30db8c39e79",
   "outputs": [],
   "execution_count": null
  },
  {
   "metadata": {},
   "cell_type": "code",
   "source": "english_questions = [get_question(metadata) for metadata in tqdm(english_question_list)]",
   "id": "5d012a31ad434a23",
   "outputs": [],
   "execution_count": null
  },
  {
   "metadata": {},
   "cell_type": "code",
   "source": "english_questions[:2]",
   "id": "5ad92cb2ba977abe",
   "outputs": [],
   "execution_count": null
  },
  {
   "metadata": {},
   "cell_type": "code",
   "source": "english_questions[-2:]",
   "id": "e73cb67a5418cdb",
   "outputs": [],
   "execution_count": null
  },
  {
   "metadata": {},
   "cell_type": "code",
   "source": [
    "with open('../data/raw/english_questions.json', 'w') as fout:\n",
    "    json.dump(english_questions, fout)"
   ],
   "id": "589c3e0e5446826e",
   "outputs": [],
   "execution_count": null
  },
  {
   "metadata": {},
   "cell_type": "code",
   "source": "math_questions = [get_question(metadata) for metadata in tqdm(math_question_list)]",
   "id": "cd6154adfbdfcf4d",
   "outputs": [],
   "execution_count": null
  },
  {
   "metadata": {},
   "cell_type": "code",
   "source": "math_questions[:2]",
   "id": "b43e8c4d84a8c92a",
   "outputs": [],
   "execution_count": null
  },
  {
   "metadata": {},
   "cell_type": "code",
   "source": "math_questions[-2:]",
   "id": "ded966169ab5fa04",
   "outputs": [],
   "execution_count": null
  },
  {
   "metadata": {},
   "cell_type": "code",
   "source": [
    "with open('../data/raw/math_questions.json', 'w') as fout:\n",
    "    json.dump(math_questions, fout)"
   ],
   "id": "75e96d00f76288d6",
   "outputs": [],
   "execution_count": null
  }
 ],
 "metadata": {
  "kernelspec": {
   "display_name": "Python [conda env:unclesat]",
   "language": "python",
   "name": "conda-env-unclesat-py"
  },
  "language_info": {
   "codemirror_mode": {
    "name": "ipython",
    "version": 2
   },
   "file_extension": ".py",
   "mimetype": "text/x-python",
   "name": "python",
   "nbconvert_exporter": "python",
   "pygments_lexer": "ipython2",
   "version": "2.7.6"
  }
 },
 "nbformat": 4,
 "nbformat_minor": 5
}
