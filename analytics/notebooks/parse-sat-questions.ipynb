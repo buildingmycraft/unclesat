{
 "cells": [
  {
   "metadata": {},
   "cell_type": "markdown",
   "source": "# Parse SAT Data",
   "id": "af9f31dfaf8b2bc5"
  },
  {
   "metadata": {
    "ExecuteTime": {
     "end_time": "2024-10-15T17:03:30.180213Z",
     "start_time": "2024-10-15T17:03:30.148680Z"
    }
   },
   "cell_type": "code",
   "source": [
    "import json\n",
    "from pydantic import BaseModel\n",
    "from tqdm import tqdm"
   ],
   "id": "a7450ad65b7fa66b",
   "outputs": [],
   "execution_count": 1
  },
  {
   "metadata": {},
   "cell_type": "markdown",
   "source": "## Load raw data",
   "id": "16e4b08e13208af0"
  },
  {
   "metadata": {
    "ExecuteTime": {
     "end_time": "2024-10-15T17:03:30.195487Z",
     "start_time": "2024-10-15T17:03:30.192843Z"
    }
   },
   "cell_type": "code",
   "source": [
    "with open('../data/raw/lookup.json') as fin:\n",
    "    lookup = json.load(fin)"
   ],
   "id": "b3a7cfdc51135962",
   "outputs": [],
   "execution_count": 2
  },
  {
   "metadata": {
    "ExecuteTime": {
     "end_time": "2024-10-15T17:03:30.251801Z",
     "start_time": "2024-10-15T17:03:30.237227Z"
    }
   },
   "cell_type": "code",
   "source": [
    "with open('../data/raw/english_questions.json') as fin:\n",
    "    english_questions = json.load(fin)"
   ],
   "id": "942fe6c9096aaefa",
   "outputs": [],
   "execution_count": 3
  },
  {
   "metadata": {
    "ExecuteTime": {
     "end_time": "2024-10-15T17:03:30.347627Z",
     "start_time": "2024-10-15T17:03:30.287503Z"
    }
   },
   "cell_type": "code",
   "source": [
    "with open('../data/raw/math_questions.json') as fin:\n",
    "    math_questions = json.load(fin)"
   ],
   "id": "d1f956cc04ba21ee",
   "outputs": [],
   "execution_count": 4
  },
  {
   "metadata": {},
   "cell_type": "markdown",
   "source": "## Data Validation",
   "id": "76d0b91381b1ccf9"
  },
  {
   "metadata": {
    "ExecuteTime": {
     "end_time": "2024-10-15T17:03:30.355247Z",
     "start_time": "2024-10-15T17:03:30.352674Z"
    }
   },
   "cell_type": "code",
   "source": [
    "# confirm that ibn questions are always a list of length 1\n",
    "for q in english_questions + math_questions:\n",
    "    if q.get(\"metadata\").get(\"ibn\"):\n",
    "        assert len(q[\"question\"]) == 1"
   ],
   "id": "8c98b8ec91188bbb",
   "outputs": [],
   "execution_count": 5
  },
  {
   "metadata": {
    "ExecuteTime": {
     "end_time": "2024-10-15T17:03:30.398470Z",
     "start_time": "2024-10-15T17:03:30.394955Z"
    }
   },
   "cell_type": "code",
   "source": [
    "# confirm that all restricted questions can be found in data\n",
    "math_live_item_ids = set(lookup[\"mathLiveItems\"])\n",
    "math_ids = set(q[\"metadata\"][\"external_id\"] for q in math_questions if q[\"metadata\"][\"external_id\"])\n",
    "assert len(math_ids) - len(math_live_item_ids) == len(math_ids - math_live_item_ids)\n",
    "\n",
    "reading_live_item_ids = set(lookup[\"readingLiveItems\"])\n",
    "reading_ids = set(q[\"metadata\"][\"external_id\"] for q in english_questions if q[\"metadata\"][\"external_id\"])\n",
    "assert len(reading_ids) - len(reading_live_item_ids) == len(reading_ids - reading_live_item_ids)"
   ],
   "id": "a1822ae18ada857d",
   "outputs": [],
   "execution_count": 6
  },
  {
   "metadata": {},
   "cell_type": "markdown",
   "source": "## Parse Data",
   "id": "6ecf33c73fe8a273"
  },
  {
   "metadata": {
    "ExecuteTime": {
     "end_time": "2024-10-15T17:03:30.502412Z",
     "start_time": "2024-10-15T17:03:30.441512Z"
    }
   },
   "cell_type": "code",
   "source": [
    "class Parser:\n",
    "    def parse_question(self: 'Parser', question: dict) -> 'Question':\n",
    "        raise NotImplemented\n",
    "\n",
    "class IBNParser(Parser):\n",
    "    def parse_question(self: 'IBNParser', question: dict) -> 'Question':\n",
    "        style_map = {\n",
    "            \"Multiple Choice\": \"mcq\",\n",
    "            \"SPR\": \"spr\"\n",
    "        }\n",
    "        pre_normalized_style = question[\"question\"][0][\"answer\"][\"style\"]\n",
    "        style = style_map.get(pre_normalized_style, pre_normalized_style)\n",
    "        \n",
    "        if style == 'mcq':\n",
    "            choices = self.parse_multiple_choice(question[\"question\"][0][\"answer\"][\"choices\"])\n",
    "            if correct_choice := question[\"question\"][0][\"answer\"].get(\"correct_choice\"):\n",
    "                answers = self.parse_answers(correct_choice, question[\"question\"][0][\"answer\"][\"choices\"])\n",
    "            else:\n",
    "                answers = None\n",
    "        elif style == 'spr':\n",
    "            choices = None\n",
    "            answers = None\n",
    "        else:\n",
    "            raise ValueError(f\"Unknown question style: {style}\")\n",
    "\n",
    "        return Question(\n",
    "            uId=question[\"metadata\"][\"uId\"],\n",
    "            external_id=question[\"metadata\"][\"external_id\"],\n",
    "            ibn=question[\"metadata\"][\"ibn\"],\n",
    "            questionId=question[\"metadata\"][\"questionId\"],\n",
    "            subject=question[\"subject\"],\n",
    "            skill=question[\"metadata\"][\"skill_desc\"],\n",
    "            domain=question[\"metadata\"][\"primary_class_cd_desc\"],\n",
    "            difficulty=question[\"metadata\"][\"difficulty\"],\n",
    "            body=question[\"question\"][0].get(\"body\"),\n",
    "            prompt=question[\"question\"][0].get(\"prompt\"),\n",
    "            style=style,\n",
    "            choices=choices,\n",
    "            answers=answers,\n",
    "            rationale=question[\"question\"][0][\"answer\"][\"rationale\"],\n",
    "        )\n",
    "\n",
    "    @staticmethod\n",
    "    def parse_multiple_choice(options: dict) -> list[str]:\n",
    "        return [option[\"body\"] for option in options.values()]\n",
    "\n",
    "    @staticmethod\n",
    "    def parse_answers(answer: str, options: dict) -> list[int]:\n",
    "        indices = options.keys()\n",
    "        return [_id for (_id, option) in enumerate(indices) if option == answer]\n",
    "\n",
    "\n",
    "class EIDParser(Parser):\n",
    "    def parse_question(self: 'EIDParser', question: dict) -> 'Question':\n",
    "        style = question[\"question\"][\"type\"]\n",
    "        if style == 'mcq':\n",
    "            choices = self.parse_multiple_choice(question[\"question\"][\"answerOptions\"])\n",
    "            answers = self.parse_answers(\n",
    "                question[\"question\"][\"keys\"],\n",
    "                question[\"question\"][\"answerOptions\"]\n",
    "            )\n",
    "        elif style == 'spr':\n",
    "            choices = None\n",
    "            answers = question[\"question\"][\"keys\"]\n",
    "        else:\n",
    "            raise ValueError(f\"Unknown question style: {style}\")\n",
    "        \n",
    "        return Question(\n",
    "            uId=question[\"metadata\"][\"uId\"],\n",
    "            external_id=question[\"metadata\"][\"external_id\"],\n",
    "            ibn=question[\"metadata\"][\"ibn\"],\n",
    "            questionId=question[\"metadata\"][\"questionId\"],\n",
    "            subject=question[\"subject\"],\n",
    "            skill=question[\"metadata\"][\"skill_desc\"],\n",
    "            domain=question[\"metadata\"][\"primary_class_cd_desc\"],\n",
    "            difficulty=question[\"metadata\"][\"difficulty\"],\n",
    "            body=question[\"question\"].get(\"stimulus\"),\n",
    "            prompt=question[\"question\"][\"stem\"],\n",
    "            style=style,\n",
    "            choices=choices,\n",
    "            answers=answers,\n",
    "            rationale=question[\"question\"][\"rationale\"],\n",
    "        )\n",
    "\n",
    "    @staticmethod\n",
    "    def parse_multiple_choice(options: list) -> list[str]:\n",
    "        return [option[\"content\"] for option in options]\n",
    "\n",
    "    @staticmethod\n",
    "    def parse_answers(answers: list, options: list) -> list[int]:\n",
    "        keys = [option[\"id\"] for option in options]\n",
    "        return [_id for (_id, option) in enumerate(keys) if option in answers]\n",
    "\n",
    "\n",
    "class Question(BaseModel):\n",
    "    \"\"\"Standardized dataclass for SAT Questions\"\"\"\n",
    "    uId: str\n",
    "    external_id: str | None\n",
    "    ibn: str | None\n",
    "    questionId: str\n",
    "    subject: str\n",
    "    skill: str\n",
    "    domain: str\n",
    "    difficulty: str\n",
    "    body: str | None\n",
    "    prompt: str | None\n",
    "    style: str\n",
    "    choices: list[str] | None\n",
    "    answers: list[int] | list[str] | None\n",
    "    rationale: str\n",
    "    \n",
    "    @classmethod\n",
    "    def parse_question(cls: 'Question', question: dict) -> 'Question':\n",
    "        if question.get(\"metadata\").get(\"ibn\"):\n",
    "            parser = IBNParser()\n",
    "        else:\n",
    "            parser = EIDParser()\n",
    "        return parser.parse_question(question)\n",
    "\n",
    "def add_subject(question: dict, subject: str) -> dict:\n",
    "    question[\"subject\"] = subject\n",
    "    return question\n",
    "\n",
    "questions_w_subject = (\n",
    "        [add_subject(q, \"math\") for q in math_questions]\n",
    "        + [add_subject(q, \"english\") for q in english_questions]\n",
    ")\n",
    "\n",
    "questions = [Question.parse_question(q) for q in tqdm(questions_w_subject)]"
   ],
   "id": "725591df6e44a90b",
   "outputs": [
    {
     "name": "stderr",
     "output_type": "stream",
     "text": [
      "100%|██████████| 2017/2017 [00:00<00:00, 156020.71it/s]\n"
     ]
    }
   ],
   "execution_count": 7
  },
  {
   "metadata": {},
   "cell_type": "markdown",
   "source": "## Export data",
   "id": "a9d884c378806f09"
  },
  {
   "metadata": {
    "ExecuteTime": {
     "end_time": "2024-10-15T17:03:30.583936Z",
     "start_time": "2024-10-15T17:03:30.572603Z"
    }
   },
   "cell_type": "code",
   "source": "data = [q.dict() for q in questions]",
   "id": "a7bdab875ad0b668",
   "outputs": [],
   "execution_count": 8
  },
  {
   "metadata": {
    "ExecuteTime": {
     "end_time": "2024-10-15T17:03:30.686429Z",
     "start_time": "2024-10-15T17:03:30.614331Z"
    }
   },
   "cell_type": "code",
   "source": [
    "with open('../data/parsed/questions.json', 'w') as fout:\n",
    "    json.dump(data, fout)"
   ],
   "id": "36fd9f7e3f64e576",
   "outputs": [],
   "execution_count": 9
  },
  {
   "metadata": {
    "ExecuteTime": {
     "end_time": "2024-10-15T17:03:58.505238Z",
     "start_time": "2024-10-15T17:03:58.294991Z"
    }
   },
   "cell_type": "code",
   "source": "!pwd",
   "id": "534570250b4e735b",
   "outputs": [
    {
     "name": "stdout",
     "output_type": "stream",
     "text": [
      "/home/kevin/IdeaProjects/unclesat/analytics/notebooks\r\n"
     ]
    }
   ],
   "execution_count": 10
  },
  {
   "metadata": {
    "ExecuteTime": {
     "end_time": "2024-10-15T17:04:36.777570Z",
     "start_time": "2024-10-15T17:04:32.241201Z"
    }
   },
   "cell_type": "code",
   "source": "!aws s3 cp ../data s3://unclesat/data/ --recursive",
   "id": "3501dac64ad3a954",
   "outputs": [
    {
     "name": "stdout",
     "output_type": "stream",
     "text": [
      "upload: ../data/raw/lookup.json to s3://unclesat/data/raw/lookup.json\r\n",
      "upload: ../data/raw/english_question_list.json to s3://unclesat/data/raw/english_question_list.json\r\n",
      "upload: ../data/raw/math_question_list.json to s3://unclesat/data/raw/math_question_list.json\r\n",
      "upload: ../data/raw/english_questions.json to s3://unclesat/data/raw/english_questions.json\r\n",
      "upload: ../data/parsed/questions.json to s3://unclesat/data/parsed/questions.json\r\n",
      "upload: ../data/raw/math_questions.json to s3://unclesat/data/raw/math_questions.json\r\n"
     ]
    }
   ],
   "execution_count": 11
  }
 ],
 "metadata": {
  "kernelspec": {
   "display_name": "Python [conda env:unclesat]",
   "language": "python",
   "name": "conda-env-unclesat-py"
  },
  "language_info": {
   "codemirror_mode": {
    "name": "ipython",
    "version": 2
   },
   "file_extension": ".py",
   "mimetype": "text/x-python",
   "name": "python",
   "nbconvert_exporter": "python",
   "pygments_lexer": "ipython2",
   "version": "2.7.6"
  }
 },
 "nbformat": 4,
 "nbformat_minor": 5
}
