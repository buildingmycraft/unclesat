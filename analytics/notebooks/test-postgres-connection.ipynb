{
 "cells": [
  {
   "cell_type": "markdown",
   "id": "3bd18da1d1d3d156",
   "metadata": {},
   "source": [
    "# Test Postgres Connection"
   ]
  },
  {
   "cell_type": "code",
   "id": "initial_id",
   "metadata": {
    "collapsed": true,
    "jupyter": {
     "outputs_hidden": true
    },
    "ExecuteTime": {
     "end_time": "2024-09-12T17:09:37.006305Z",
     "start_time": "2024-09-12T17:09:36.960639Z"
    }
   },
   "source": [
    "import psycopg\n",
    "import dotenv"
   ],
   "outputs": [],
   "execution_count": 1
  },
  {
   "metadata": {
    "ExecuteTime": {
     "end_time": "2024-09-12T17:09:37.011807Z",
     "start_time": "2024-09-12T17:09:37.009574Z"
    }
   },
   "cell_type": "code",
   "source": "config = dotenv.dotenv_values(\"../postgres.env\")",
   "id": "f4c961ec7bbac570",
   "outputs": [],
   "execution_count": 2
  },
  {
   "metadata": {
    "ExecuteTime": {
     "end_time": "2024-09-12T17:09:37.389241Z",
     "start_time": "2024-09-12T17:09:37.055224Z"
    }
   },
   "cell_type": "code",
   "source": [
    "with psycopg.connect(\n",
    "    host=config[\"pg_host\"],\n",
    "    port=config[\"pg_port\"],\n",
    "    dbname=config[\"pg_database\"],\n",
    "    user=config[\"pg_user\"],\n",
    "    password=config[\"pg_password\"],\n",
    ") as conn:\n",
    "    print(conn.execute(\"select current_date\").fetchall())"
   ],
   "id": "e46907de092062b4",
   "outputs": [
    {
     "name": "stdout",
     "output_type": "stream",
     "text": [
      "[(datetime.date(2024, 9, 12),)]\n"
     ]
    }
   ],
   "execution_count": 3
  }
 ],
 "metadata": {
  "kernelspec": {
   "display_name": "Python [conda env:unclesat]",
   "language": "python",
   "name": "conda-env-unclesat-py"
  },
  "language_info": {
   "codemirror_mode": {
    "name": "ipython",
    "version": 3
   },
   "file_extension": ".py",
   "mimetype": "text/x-python",
   "name": "python",
   "nbconvert_exporter": "python",
   "pygments_lexer": "ipython3",
   "version": "3.12.4"
  }
 },
 "nbformat": 4,
 "nbformat_minor": 5
}
